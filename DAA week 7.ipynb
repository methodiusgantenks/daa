{
 "cells": [
  {
   "cell_type": "code",
   "execution_count": 6,
   "id": "a234e166",
   "metadata": {},
   "outputs": [],
   "source": [
    "def Sequential_Search(dlist, item):\n",
    "    \n",
    "    pos = 0\n",
    "    found = False\n",
    "    \n",
    "    while pos < len(dlist) and not found:\n",
    "        if dlist[pos] == item:\n",
    "            found = True\n",
    "        else:\n",
    "            pos = pos + 1\n",
    "    return found, pos"
   ]
  },
  {
   "cell_type": "code",
   "execution_count": 7,
   "id": "a9609419",
   "metadata": {},
   "outputs": [
    {
     "name": "stdout",
     "output_type": "stream",
     "text": [
      "(True, 3)\n"
     ]
    }
   ],
   "source": [
    "print(Sequential_Search([11,23,58,31,56,77,43,12,65,19],31))"
   ]
  },
  {
   "cell_type": "code",
   "execution_count": 8,
   "id": "97bf38ec",
   "metadata": {},
   "outputs": [],
   "source": [
    "def Sequential_Search(dlist, item):\n",
    "    \n",
    "    pos = 0\n",
    "    found = False\n",
    "    \n",
    "    while pos < len(dlist) and not found:\n",
    "        if dlist[pos] == item:\n",
    "            found = True\n",
    "        else:\n",
    "            pos = pos + 1\n",
    "    return found, pos"
   ]
  },
  {
   "cell_type": "code",
   "execution_count": 9,
   "id": "7256a3b5",
   "metadata": {},
   "outputs": [
    {
     "name": "stdout",
     "output_type": "stream",
     "text": [
      "(True, 6)\n"
     ]
    }
   ],
   "source": [
    "print(Sequential_Search(['a','b','c','d','e','f','g','h','i','j'],'g'))"
   ]
  },
  {
   "cell_type": "code",
   "execution_count": 12,
   "id": "b7be2785",
   "metadata": {},
   "outputs": [
    {
     "name": "stdout",
     "output_type": "stream",
     "text": [
      "masukkan bilangan: 4\n",
      "masukkan pangkat: 2\n",
      "Hasil = 16\n"
     ]
    }
   ],
   "source": [
    "bilangan = int(input('masukkan bilangan: '))\n",
    "pangkat = int(input('masukkan pangkat: '))\n",
    "\n",
    "def hitung_pangkat(bilangan, pangkat):\n",
    "    if pangkat > 1:\n",
    "        return bilangan * hitung_pangkat(bilangan, pangkat - 1)\n",
    "    return bilangan\n",
    "\n",
    "hasil = hitung_pangkat(bilangan, pangkat)\n",
    "print(f'Hasil = {hasil}')\n"
   ]
  },
  {
   "cell_type": "code",
   "execution_count": 14,
   "id": "9d64a737",
   "metadata": {},
   "outputs": [
    {
     "name": "stdout",
     "output_type": "stream",
     "text": [
      "masukkan nilai n:10\n",
      "10! = 362880\n"
     ]
    }
   ],
   "source": [
    "n = int(input('masukkan nilai n:'))\n",
    "\n",
    "def hitung_faktorial (n):\n",
    "    if n > 2:\n",
    "        return n * hitung_faktorial(n-1)\n",
    "    return 2\n",
    "faktorial = hitung_faktorial(n-1)\n",
    "print(f'{n}! = {faktorial}')"
   ]
  },
  {
   "cell_type": "code",
   "execution_count": 20,
   "id": "f07cac04",
   "metadata": {},
   "outputs": [
    {
     "name": "stdout",
     "output_type": "stream",
     "text": [
      "4\n"
     ]
    }
   ],
   "source": [
    "def string_match(string, sub_str):\n",
    "    \n",
    "    for i in range(len(string)-len(sub_str)+1):\n",
    "        index = i\n",
    "        for j in range (len(sub_str)):\n",
    "            if string[index] == sub_str[j]:\n",
    "                index += 1\n",
    "            else:\n",
    "                break\n",
    "            if index-i == len(sub_str):\n",
    "                return i\n",
    "    return -1\n",
    "if __name__ == \"__main__\":\n",
    "    print(string_match(\"adbcbdc\", \"bdc\"))\n",
    "            "
   ]
  },
  {
   "cell_type": "code",
   "execution_count": 24,
   "id": "4fb71351",
   "metadata": {},
   "outputs": [
    {
     "name": "stdout",
     "output_type": "stream",
     "text": [
      "4\n"
     ]
    }
   ],
   "source": [
    "def string_match(string, sub_str):\n",
    "    \n",
    "    for i in range(len(string)-len(sub_str)+1):\n",
    "        index = i\n",
    "        for j in range (len(sub_str)):\n",
    "            if string[index] == sub_str[j]:\n",
    "                index += 1\n",
    "            else:\n",
    "                break\n",
    "            if index-i == len(sub_str):\n",
    "                return i\n",
    "    return -1\n",
    "if __name__ == \"__main__\":\n",
    "    print(string_match(\"123456789\", \"56\"))"
   ]
  },
  {
   "cell_type": "code",
   "execution_count": 9,
   "id": "8e18c75f",
   "metadata": {},
   "outputs": [],
   "source": [
    "import random \n",
    "from itertools import permutations\n",
    "alltours = permutations\n",
    "\n",
    "def distance_tour(aTour):\n",
    "    return sum(distance_points(aTour[i - 1], aTour[i])\n",
    "               for i in range(len(aTour)))\n",
    "\n",
    "aCity = complex\n",
    "\n",
    "def distance_points(first, second):\n",
    "    return abs(first - second)\n",
    "\n",
    "def generate_cities (number_of_cities):\n",
    "    seed=111;width=500;height=300\n",
    "    random.seed((number_of_cities,seed))\n",
    "    return frozenset(aCity(random.randint(1,width), random.randint(1,height))\n",
    "        for c in range(number_of_cities))"
   ]
  },
  {
   "cell_type": "code",
   "execution_count": 10,
   "id": "2686e1b7",
   "metadata": {},
   "outputs": [],
   "source": [
    "%matplotlib inline\n",
    "import matplotlib.pyplot as plt\n",
    "\n",
    "def visualize_tour(tour, style='bo-'):\n",
    "    if len(tour) > 1000: plt.figure(figsize=(15,10))\n",
    "    start = tour[0:1]\n",
    "    visualize_segment(tour + start, style)\n",
    "    visualize_segment(start, 'rD')\n",
    "def visualize_segment (segment, style='bo-'):\n",
    "        plt.plot([X(c)for c in segment],[Y(c) for c in segment], style, clip_on=False)\n",
    "        plt.axis('scaled')\n",
    "        plt.axis('off')\n",
    "        \n",
    "def X(city): \"X axis\"; return city.real\n",
    "\n",
    "def Y(city): \"Y axis\"; return city.imag"
   ]
  },
  {
   "cell_type": "code",
   "execution_count": 14,
   "id": "a41eb460",
   "metadata": {},
   "outputs": [],
   "source": [
    "from time import process_time\n",
    "from collections import Counter\n",
    "def tsp(algorithm, cities):\n",
    "    t0 = process_time()\n",
    "    tour = algorithm(cities)\n",
    "    t1 = process_time()\n",
    "    assert Counter(tour) == Counter(cities)\n",
    "    visualize_tour(tour)\n",
    "    print(\"{}:{} cities => tour length {:.0f}(in{:.3f}sec)\".format(name(algorithm),len(tour),distance_tour(tour), t1-t0))\n",
    "    \n",
    "\n",
    "def name(algorithm): return algorithm.__name__.replace('_tsp','')"
   ]
  },
  {
   "cell_type": "code",
   "execution_count": 15,
   "id": "92ad327a",
   "metadata": {},
   "outputs": [],
   "source": [
    "def brute_force(cities):\n",
    "    \"Generate all possible tours of the cities and choose the shortest tour.\"\n",
    "    return shortest_tour(alltours(cities))\n",
    "def shortest_tour(tours):return min(tours, key=distance_tour)"
   ]
  },
  {
   "cell_type": "code",
   "execution_count": null,
   "id": "c5eef7dd",
   "metadata": {},
   "outputs": [],
   "source": [
    "tsp(brute_force, generate_cities(50))"
   ]
  },
  {
   "cell_type": "code",
   "execution_count": null,
   "id": "6258fce4",
   "metadata": {},
   "outputs": [],
   "source": []
  }
 ],
 "metadata": {
  "kernelspec": {
   "display_name": "Python 3",
   "language": "python",
   "name": "python3"
  },
  "language_info": {
   "codemirror_mode": {
    "name": "ipython",
    "version": 3
   },
   "file_extension": ".py",
   "mimetype": "text/x-python",
   "name": "python",
   "nbconvert_exporter": "python",
   "pygments_lexer": "ipython3",
   "version": "3.8.8"
  }
 },
 "nbformat": 4,
 "nbformat_minor": 5
}

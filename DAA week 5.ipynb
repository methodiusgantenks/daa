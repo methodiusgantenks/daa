{
 "cells": [
  {
   "cell_type": "code",
   "execution_count": 11,
   "id": "df4ddb8c",
   "metadata": {},
   "outputs": [],
   "source": [
    "def countInversion(arr):\n",
    "    result=0\n",
    "    for i in range (len(arr)):\n",
    "        for j in range(i+1,len(arr)):\n",
    "            if arr [i]>arr[j]:\n",
    "                result+=1\n",
    "    return result"
   ]
  },
  {
   "cell_type": "code",
   "execution_count": 12,
   "id": "58d0be83",
   "metadata": {},
   "outputs": [],
   "source": [
    "arr=[21, 70 , 36, 14, 25]"
   ]
  },
  {
   "cell_type": "code",
   "execution_count": 14,
   "id": "552a7d1b",
   "metadata": {},
   "outputs": [
    {
     "name": "stdout",
     "output_type": "stream",
     "text": [
      "6\n"
     ]
    }
   ],
   "source": [
    "result = countInversion(arr)\n",
    "print(result)"
   ]
  },
  {
   "cell_type": "code",
   "execution_count": 21,
   "id": "01b40f06",
   "metadata": {},
   "outputs": [],
   "source": [
    "def countIinversion(arr):\n",
    "    icount=0\n",
    "    if len(arr)<=1:\n",
    "        return icount\n",
    "    \n",
    "    mid=len(arr)//2\n",
    "    left=arr[:mid]\n",
    "    right=arr[mid:]\n",
    "    icount+=countInversion(left)\n",
    "    icount+=countInversion(Right)\n",
    "    i=j=k=0\n",
    "    \n",
    "    #print(left)\n",
    "    #print (Right)\n",
    "    while i<len(left) and j<len(right):\n",
    "        if left[i]<right[j]:\n",
    "            arr[k]=left[i]\n",
    "            i+=1\n",
    "        else:\n",
    "            #print left[i],right[j]\n",
    "            arr[k]=right[j]\n",
    "            j+1\n",
    "            icount+=(mid-i)\n",
    "        k+=1\n",
    "    while i<len(left):\n",
    "        arr[k]=left[i]\n",
    "        j+=1\n",
    "        k+=1\n",
    "    while j<len(right):\n",
    "        arr[k]=left[j]\n",
    "        j+=1\n",
    "        k+=1\n",
    "        \n",
    "        return icount"
   ]
  },
  {
   "cell_type": "code",
   "execution_count": 29,
   "id": "bf7450b2",
   "metadata": {},
   "outputs": [],
   "source": [
    "arr=[21, 70 , 36, 14, 25]"
   ]
  },
  {
   "cell_type": "code",
   "execution_count": 30,
   "id": "42b59e95",
   "metadata": {},
   "outputs": [
    {
     "name": "stdout",
     "output_type": "stream",
     "text": [
      "6\n"
     ]
    }
   ],
   "source": [
    "result = countInversion(arr)\n",
    "print(result)"
   ]
  },
  {
   "cell_type": "code",
   "execution_count": 31,
   "id": "e28698d4",
   "metadata": {},
   "outputs": [],
   "source": [
    "def maxSubSum(arr):\n",
    "    max_so_far=0\n",
    "    max_ending_here=0\n",
    "    for i in range(len(arr)):\n",
    "        max_ending_here+=arr[i]\n",
    "        if max_ending_here>max_so_far:\n",
    "            max_so_far=max_ending_here\n",
    "        if max_ending_here<0:\n",
    "            max_ending_here=0\n",
    "    return max_so_far"
   ]
  },
  {
   "cell_type": "code",
   "execution_count": 34,
   "id": "e6a1497a",
   "metadata": {},
   "outputs": [
    {
     "name": "stdout",
     "output_type": "stream",
     "text": [
      "7\n"
     ]
    }
   ],
   "source": [
    "arr=[-2, -5, 6, -2 ,-3 ,1 ,5 ,-6]\n",
    "result=maxSubSum(arr)\n",
    "print(result)"
   ]
  },
  {
   "cell_type": "code",
   "execution_count": 39,
   "id": "a31f6cc7",
   "metadata": {},
   "outputs": [],
   "source": [
    "def maxCrossingSum(arr,low,mid,high):\n",
    "    result=0; leftSum=float('-infinity')\n",
    "    for i in range (mid,low-1,-1):\n",
    "        result+=arr[i]\n",
    "        if result>leftSum:\n",
    "            leftSum=result\n",
    "    result=0; rightSum=float('-infinity')\n",
    "    for i in range(mid+1,high+1):\n",
    "        result+=arr[i]\n",
    "        if result>rightSum:\n",
    "            rightSum=result\n",
    "    return leftSum+rightSum\n",
    "\n",
    "def maxSum(arr,low,high):\n",
    "    if low==high:\n",
    "        return arr[low]\n",
    "    mid=(low+high)//2\n",
    "    return max(maxSum(arr,low,mid),maxSum(arr,mid+1,high),maxCrossingSum(arr,low,mid,high))"
   ]
  },
  {
   "cell_type": "code",
   "execution_count": 42,
   "id": "eb152aaa",
   "metadata": {},
   "outputs": [
    {
     "name": "stdout",
     "output_type": "stream",
     "text": [
      "7\n"
     ]
    }
   ],
   "source": [
    "arr=[-2, -5, 6, -2, -3, 1, 5, -6]\n",
    "result=maxSum(arr,0,len(arr)-1)\n",
    "print(result)"
   ]
  },
  {
   "cell_type": "code",
   "execution_count": 52,
   "id": "04486c32",
   "metadata": {},
   "outputs": [],
   "source": [
    "def commonPrefix(str1,str2):\n",
    "    n1=len(str1);n2=len(str2)\n",
    "    i,j=0,0\n",
    "    s=\"\"\n",
    "    while i<n1 and j<n2:\n",
    "        if str1[i]==str2[j]:\n",
    "            s+=str1[i]\n",
    "            i+=1\n",
    "            j+=1\n",
    "        else:\n",
    "            break\n",
    "    return s"
   ]
  },
  {
   "cell_type": "code",
   "execution_count": 53,
   "id": "616aa41d",
   "metadata": {},
   "outputs": [],
   "source": [
    "def longestCommonPrefix(arr,low,high):\n",
    "    if low==high:\n",
    "        return arr[low]\n",
    "    mid=(low+high)//2\n",
    "    result1=longestCommonPrefix(arr,low,mid)\n",
    "    result2=longestCommonPrefix(arr,mid+1,high)\n",
    "    result=commonPrefix(result1,result2)\n",
    "    return result"
   ]
  },
  {
   "cell_type": "code",
   "execution_count": 54,
   "id": "f66b9221",
   "metadata": {},
   "outputs": [],
   "source": [
    "arr=['geeksforgeeks','geeks','geek','geezer']"
   ]
  },
  {
   "cell_type": "code",
   "execution_count": 55,
   "id": "a973fd4f",
   "metadata": {},
   "outputs": [],
   "source": [
    "result=longestCommonPrefix(arr,0,len(arr)-1)"
   ]
  },
  {
   "cell_type": "code",
   "execution_count": 56,
   "id": "8adc739d",
   "metadata": {},
   "outputs": [
    {
     "name": "stdout",
     "output_type": "stream",
     "text": [
      "gee\n"
     ]
    }
   ],
   "source": [
    "print(result)"
   ]
  },
  {
   "cell_type": "code",
   "execution_count": 59,
   "id": "534486fe",
   "metadata": {},
   "outputs": [
    {
     "name": "stdout",
     "output_type": "stream",
     "text": [
      "ap\n"
     ]
    }
   ],
   "source": [
    "arr=[\"apple\",\"ape\",\"april\"]\n",
    "result=longestCommonPrefix(arr,0,len(arr)-1)\n",
    "print(result)"
   ]
  },
  {
   "cell_type": "code",
   "execution_count": 63,
   "id": "5174db7e",
   "metadata": {},
   "outputs": [],
   "source": [
    "def medianOfArray(arr1,arr2,n):\n",
    "    m1=-1\n",
    "    m2=-2\n",
    "    count=0\n",
    "    i=j=0\n",
    "    while count<n+1:\n",
    "        count+=1\n",
    "        if i==n:\n",
    "            m1=m2\n",
    "            m2=arr2[0]\n",
    "            break\n",
    "        if j==n:\n",
    "            m1=m2\n",
    "            m2=arr1[0]\n",
    "        if arr1[i]<arr2[j]:\n",
    "            m1=m2\n",
    "            m2=arr1[i]\n",
    "            i+=1\n",
    "        else:\n",
    "            m1=m2\n",
    "            m2=arr2[j]\n",
    "            j+=1\n",
    "    return (m1+m2)//2\n",
    "        "
   ]
  },
  {
   "cell_type": "code",
   "execution_count": 67,
   "id": "04fdb03f",
   "metadata": {},
   "outputs": [],
   "source": [
    "arr1=[1, 12, 15, 26, 28]\n",
    "arr2=[2, 13, 17, 30, 45]"
   ]
  },
  {
   "cell_type": "code",
   "execution_count": 68,
   "id": "efd34412",
   "metadata": {},
   "outputs": [
    {
     "name": "stdout",
     "output_type": "stream",
     "text": [
      "16\n"
     ]
    }
   ],
   "source": [
    "print(medianOfArray(arr1,arr2,len(arr1)))"
   ]
  },
  {
   "cell_type": "code",
   "execution_count": 69,
   "id": "19d1e971",
   "metadata": {},
   "outputs": [],
   "source": [
    "def floorSorted(arr,low,high,x):\n",
    "    if low>high:\n",
    "        return -1\n",
    "    \n",
    "    if arr[low]>x:\n",
    "        return -1\n",
    "    \n",
    "    if arr[high]<=x:\n",
    "        return arr[high]\n",
    "    \n",
    "    mid=(low+high)//2\n",
    "    \n",
    "    if arr[mid]==x:\n",
    "        return arr[mid]\n",
    "    \n",
    "    if mid>0 and x>=arr[mid-1] and arr [mid]>x:\n",
    "        return arr[mid-1]\n",
    "    if mid<high and x<arr[mid+1] and x>=arr[mid]:\n",
    "        return arr[mid]\n",
    "    \n",
    "    if x>arr[mid]:\n",
    "        return floorSorted(arr,mid+1,high,x)\n",
    "    else:\n",
    "        return floorSorted(arr,low,mid-1,x)"
   ]
  },
  {
   "cell_type": "code",
   "execution_count": 70,
   "id": "920f3d7b",
   "metadata": {},
   "outputs": [],
   "source": [
    "arr=[1,2,8,10,12,14,19]"
   ]
  },
  {
   "cell_type": "code",
   "execution_count": 71,
   "id": "09fd9e5b",
   "metadata": {},
   "outputs": [],
   "source": [
    "x=5"
   ]
  },
  {
   "cell_type": "code",
   "execution_count": 72,
   "id": "61757c68",
   "metadata": {},
   "outputs": [
    {
     "name": "stdout",
     "output_type": "stream",
     "text": [
      "2\n"
     ]
    }
   ],
   "source": [
    "print(floorSorted(arr,0,len(arr)-1,x))"
   ]
  },
  {
   "cell_type": "code",
   "execution_count": 76,
   "id": "0ea554e4",
   "metadata": {},
   "outputs": [],
   "source": [
    "def closestNumber(arr,low,high,x):\n",
    "    if low>high:\n",
    "        return -1\n",
    "    if arr[high]<=x:\n",
    "        return arr[high]\n",
    "    if arr[low]>=x:\n",
    "        return arr[low]\n",
    "    mid=(low+high)//2\n",
    "    if arr[mid]==x:\n",
    "        return arr[mid]\n",
    "    abs_mid=abs(arr[mid-1]-x)\n",
    "    if mid>0:\n",
    "        abs_left=abs(arr[mid-1]-x)\n",
    "        if abs_left<abs_mid:\n",
    "            return closestNumber(arr,low,mid-1,x)\n",
    "    if mid<high:\n",
    "        abs_right=abs(arr[mid+1]-x)\n",
    "        if abs_right<abs_mid:\n",
    "            return closestNumber(arr,mid+1,high,x)\n",
    "        return arr[mid]\n",
    "    return arr[mid]"
   ]
  },
  {
   "cell_type": "code",
   "execution_count": 77,
   "id": "3615f213",
   "metadata": {},
   "outputs": [],
   "source": [
    "arr=[2, 5, 6, 7, 8, 8, 9]"
   ]
  },
  {
   "cell_type": "code",
   "execution_count": 78,
   "id": "dfdb219e",
   "metadata": {},
   "outputs": [],
   "source": [
    "x=9"
   ]
  },
  {
   "cell_type": "code",
   "execution_count": 79,
   "id": "17cfbbfa",
   "metadata": {},
   "outputs": [
    {
     "name": "stdout",
     "output_type": "stream",
     "text": [
      "9\n"
     ]
    }
   ],
   "source": [
    "print(closestNumber(arr,0,len(arr)-1,x))"
   ]
  },
  {
   "cell_type": "code",
   "execution_count": 80,
   "id": "9acbcf44",
   "metadata": {},
   "outputs": [],
   "source": [
    "def fixedPoint(arr,low,high):\n",
    "    if low>high:\n",
    "        return-1\n",
    "    if arr[high]==high:\n",
    "        return arr[high]\n",
    "    if arr[low]==low:\n",
    "        return arr[low]\n",
    "    mid=(low+high)//2\n",
    "    if arr[mid]==mid:\n",
    "        return arr[mid]\n",
    "    if mid>arr[mid]:\n",
    "        return fixedPoint(arr,mid+1,high)\n",
    "    else:\n",
    "        return fixedPoint(arr,low,mid-1)"
   ]
  },
  {
   "cell_type": "code",
   "execution_count": 81,
   "id": "ac7d79f7",
   "metadata": {},
   "outputs": [],
   "source": [
    "arr=[9,1,4,5,2]"
   ]
  },
  {
   "cell_type": "code",
   "execution_count": 82,
   "id": "f9490f36",
   "metadata": {},
   "outputs": [
    {
     "name": "stdout",
     "output_type": "stream",
     "text": [
      "1\n"
     ]
    }
   ],
   "source": [
    "print(fixedPoint(arr,0,len(arr)-1))"
   ]
  },
  {
   "cell_type": "code",
   "execution_count": null,
   "id": "586dcf98",
   "metadata": {},
   "outputs": [],
   "source": []
  },
  {
   "cell_type": "code",
   "execution_count": null,
   "id": "c381dcbb",
   "metadata": {},
   "outputs": [],
   "source": []
  }
 ],
 "metadata": {
  "kernelspec": {
   "display_name": "Python 3",
   "language": "python",
   "name": "python3"
  },
  "language_info": {
   "codemirror_mode": {
    "name": "ipython",
    "version": 3
   },
   "file_extension": ".py",
   "mimetype": "text/x-python",
   "name": "python",
   "nbconvert_exporter": "python",
   "pygments_lexer": "ipython3",
   "version": "3.8.8"
  }
 },
 "nbformat": 4,
 "nbformat_minor": 5
}

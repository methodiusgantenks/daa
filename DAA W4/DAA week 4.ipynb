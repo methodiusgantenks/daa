{
 "cells": [
  {
   "cell_type": "code",
   "execution_count": 5,
   "id": "74c749ef",
   "metadata": {},
   "outputs": [],
   "source": [
    "#swap function\n",
    "var1 = 1\n",
    "var2 = 2\n",
    "var1, var2 = var2 , var1"
   ]
  },
  {
   "cell_type": "code",
   "execution_count": 7,
   "id": "34fdcd8e",
   "metadata": {},
   "outputs": [
    {
     "name": "stdout",
     "output_type": "stream",
     "text": [
      "2 1\n"
     ]
    }
   ],
   "source": [
    "print(var1,var2)"
   ]
  },
  {
   "cell_type": "code",
   "execution_count": 10,
   "id": "f584315b",
   "metadata": {},
   "outputs": [],
   "source": [
    "#swap function\n",
    "var1 = 1\n",
    "var2 = 2\n",
    "var3 = 3\n",
    "var1, var2, var3 = var3 , var1, var2"
   ]
  },
  {
   "cell_type": "code",
   "execution_count": 11,
   "id": "70ea66bc",
   "metadata": {},
   "outputs": [
    {
     "name": "stdout",
     "output_type": "stream",
     "text": [
      "3 1 2\n"
     ]
    }
   ],
   "source": [
    "print(var1,var2,var3)"
   ]
  },
  {
   "cell_type": "code",
   "execution_count": 12,
   "id": "7dd02ee3",
   "metadata": {},
   "outputs": [],
   "source": [
    "list = [25,21,22,24,23,27,26]"
   ]
  },
  {
   "cell_type": "code",
   "execution_count": 16,
   "id": "f9d2288e",
   "metadata": {},
   "outputs": [
    {
     "name": "stdout",
     "output_type": "stream",
     "text": [
      "0 [25, 21, 22, 24, 23, 27, 26]\n",
      "1 [21, 25, 22, 24, 23, 27, 26]\n",
      "2 [21, 22, 25, 24, 23, 27, 26]\n",
      "3 [21, 22, 24, 25, 23, 27, 26]\n",
      "4 [21, 22, 24, 23, 25, 27, 26]\n",
      "5 [21, 22, 24, 23, 25, 27, 26]\n",
      "6 [21, 22, 24, 23, 25, 26, 27]\n"
     ]
    }
   ],
   "source": [
    "lastElementIndex = len(list)-1\n",
    "print(0,list)\n",
    "for idx in range(lastElementIndex):\n",
    "    if list[idx]>list[idx+1]:\n",
    "        list[idx],list[idx+1]=list[idx+1],list[idx]\n",
    "    print(idx+1,list)"
   ]
  },
  {
   "cell_type": "code",
   "execution_count": 17,
   "id": "3f3d1cf6",
   "metadata": {},
   "outputs": [
    {
     "data": {
      "text/plain": [
       "[21, 22, 24, 23, 25, 26, 27]"
      ]
     },
     "execution_count": 17,
     "metadata": {},
     "output_type": "execute_result"
    }
   ],
   "source": [
    "list"
   ]
  },
  {
   "cell_type": "code",
   "execution_count": 22,
   "id": "bd3479d6",
   "metadata": {},
   "outputs": [],
   "source": [
    "def BubbleSort(list):\n",
    "    #exchance the elements to arrange in order\n",
    "    lastElementIndex = len(list)-1\n",
    "    for passNo in range(lastElementIndex,0,-1):\n",
    "        for idx in range (passNo) :\n",
    "            if list [idx]>list[idx+1]:\n",
    "                list[idx], list[idx+1]=list[idx+1],list[idx]\n",
    "    return list"
   ]
  },
  {
   "cell_type": "code",
   "execution_count": 23,
   "id": "8e50a32b",
   "metadata": {},
   "outputs": [],
   "source": [
    "#masukkan angka dengan urutan lainnya\n",
    "list = [25,21,22,24,23,27,26]"
   ]
  },
  {
   "cell_type": "code",
   "execution_count": 24,
   "id": "452971c9",
   "metadata": {},
   "outputs": [
    {
     "data": {
      "text/plain": [
       "[21, 22, 23, 24, 25, 26, 27]"
      ]
     },
     "execution_count": 24,
     "metadata": {},
     "output_type": "execute_result"
    }
   ],
   "source": [
    "BubbleSort(list)"
   ]
  },
  {
   "cell_type": "code",
   "execution_count": 25,
   "id": "28e59d4e",
   "metadata": {},
   "outputs": [
    {
     "data": {
      "text/plain": [
       "[21, 22, 23, 24, 25, 26, 27]"
      ]
     },
     "execution_count": 25,
     "metadata": {},
     "output_type": "execute_result"
    }
   ],
   "source": [
    "list"
   ]
  },
  {
   "cell_type": "code",
   "execution_count": 26,
   "id": "7b29e0cf",
   "metadata": {},
   "outputs": [],
   "source": [
    "list = [100,20,60,90,40,30,10]"
   ]
  },
  {
   "cell_type": "code",
   "execution_count": 27,
   "id": "0ec09cbf",
   "metadata": {},
   "outputs": [],
   "source": [
    "def BubbleSort(list):\n",
    "    #exchance the elements to arrange in order\n",
    "    lastElementIndex = len(list)-1\n",
    "    for passNo in range(lastElementIndex,0,-1):\n",
    "        for idx in range (passNo) :\n",
    "            if list [idx]>list[idx+1]:\n",
    "                list[idx], list[idx+1]=list[idx+1],list[idx]\n",
    "    return list"
   ]
  },
  {
   "cell_type": "code",
   "execution_count": 28,
   "id": "2988866d",
   "metadata": {},
   "outputs": [],
   "source": [
    "list = [100,20,60,90,40,30,10]"
   ]
  },
  {
   "cell_type": "code",
   "execution_count": 29,
   "id": "a914a0f5",
   "metadata": {},
   "outputs": [
    {
     "data": {
      "text/plain": [
       "[10, 20, 30, 40, 60, 90, 100]"
      ]
     },
     "execution_count": 29,
     "metadata": {},
     "output_type": "execute_result"
    }
   ],
   "source": [
    "BubbleSort(list)"
   ]
  },
  {
   "cell_type": "code",
   "execution_count": 30,
   "id": "426d094c",
   "metadata": {},
   "outputs": [],
   "source": [
    "def InsertionSort(list):\n",
    "    for i in range(1, len(list)):\n",
    "        j=i-1\n",
    "        next = list[i]\n",
    "#compare the current element with next one\n",
    "        while (list[j]>next) and (j>=0):\n",
    "            list[j+1] = list[j]\n",
    "            j=j-1\n",
    "        list[j+1] = next\n",
    "    return list"
   ]
  },
  {
   "cell_type": "code",
   "execution_count": 31,
   "id": "340278a2",
   "metadata": {},
   "outputs": [],
   "source": [
    "list = [35,31,32,34,33,37,36]"
   ]
  },
  {
   "cell_type": "code",
   "execution_count": 32,
   "id": "17e68173",
   "metadata": {},
   "outputs": [
    {
     "data": {
      "text/plain": [
       "[35, 31, 32, 34, 33, 37, 36]"
      ]
     },
     "execution_count": 32,
     "metadata": {},
     "output_type": "execute_result"
    }
   ],
   "source": [
    "list"
   ]
  },
  {
   "cell_type": "code",
   "execution_count": 33,
   "id": "cb1ff247",
   "metadata": {},
   "outputs": [
    {
     "data": {
      "text/plain": [
       "[31, 32, 33, 34, 35, 36, 37]"
      ]
     },
     "execution_count": 33,
     "metadata": {},
     "output_type": "execute_result"
    }
   ],
   "source": [
    "InsertionSort(list)"
   ]
  },
  {
   "cell_type": "code",
   "execution_count": 34,
   "id": "86280d7c",
   "metadata": {},
   "outputs": [],
   "source": [
    "list = [89,12,57,16,25,11,75]"
   ]
  },
  {
   "cell_type": "code",
   "execution_count": 35,
   "id": "dee8d2cc",
   "metadata": {},
   "outputs": [
    {
     "data": {
      "text/plain": [
       "[11, 12, 16, 25, 57, 75, 89]"
      ]
     },
     "execution_count": 35,
     "metadata": {},
     "output_type": "execute_result"
    }
   ],
   "source": [
    "InsertionSort(list)"
   ]
  },
  {
   "cell_type": "code",
   "execution_count": 50,
   "id": "603c8bc6",
   "metadata": {},
   "outputs": [],
   "source": [
    "def SelectionSort(list):\n",
    "    for fill_slot in range(len(list) -1,0,-1):\n",
    "        max_index = 0\n",
    "        for location in range(1, fill_slot +1):\n",
    "            if list[location] > list[max_index]:\n",
    "                max_index = location\n",
    "        list[fill_slot],list[max_index]=list[max_index],list[fill_slot]\n",
    "    return list"
   ]
  },
  {
   "cell_type": "code",
   "execution_count": 51,
   "id": "2c0c7668",
   "metadata": {},
   "outputs": [
    {
     "data": {
      "text/plain": [
       "[15, 19, 25, 34, 44, 70]"
      ]
     },
     "execution_count": 51,
     "metadata": {},
     "output_type": "execute_result"
    }
   ],
   "source": [
    "list = [70,15,25,19,34,44]\n",
    "SelectionSort(list)"
   ]
  },
  {
   "cell_type": "code",
   "execution_count": 54,
   "id": "af5b1937",
   "metadata": {},
   "outputs": [
    {
     "data": {
      "text/plain": [
       "[12, 16, 25, 57, 89]"
      ]
     },
     "execution_count": 54,
     "metadata": {},
     "output_type": "execute_result"
    }
   ],
   "source": [
    "list = [89, 12, 57, 16, 25]\n",
    "SelectionSort(list)\n"
   ]
  },
  {
   "cell_type": "code",
   "execution_count": 57,
   "id": "156e22e2",
   "metadata": {},
   "outputs": [],
   "source": [
    "def LinearSearch(list, item):\n",
    "    index=0\n",
    "    found=False\n",
    "    \n",
    "    while index<len(list) and found is False:\n",
    "        if list[index]==item:\n",
    "            found=True\n",
    "        else:\n",
    "            index=index+1\n",
    "    return found"
   ]
  },
  {
   "cell_type": "code",
   "execution_count": 58,
   "id": "a30fb72c",
   "metadata": {},
   "outputs": [
    {
     "name": "stdout",
     "output_type": "stream",
     "text": [
      "True\n",
      "False\n"
     ]
    }
   ],
   "source": [
    "list = [12,33,11,99,22,55,90]\n",
    "print(LinearSearch(list,12))\n",
    "print(LinearSearch(list,91))"
   ]
  },
  {
   "cell_type": "code",
   "execution_count": 61,
   "id": "691e5048",
   "metadata": {},
   "outputs": [
    {
     "name": "stdout",
     "output_type": "stream",
     "text": [
      "True\n"
     ]
    }
   ],
   "source": [
    "list = ['y','u','i','w','o','a','q','u','j','p']\n",
    "print(LinearSearch(list,'a'))"
   ]
  },
  {
   "cell_type": "code",
   "execution_count": 63,
   "id": "b71506e9",
   "metadata": {},
   "outputs": [],
   "source": [
    "def BinarySearch(list, item):\n",
    "    first = 0\n",
    "    last = len(list)-1\n",
    "    found = False\n",
    "    \n",
    "    while first<=last and not found:\n",
    "        midpoint = (first+last)//2\n",
    "        if list[midpoint] == item:\n",
    "            found = True\n",
    "        else:\n",
    "            if item < list[midpoint]:\n",
    "                last = midpoint-1\n",
    "            else:\n",
    "                first = midpoint+1\n",
    "    return found\n",
    "                "
   ]
  },
  {
   "cell_type": "code",
   "execution_count": 64,
   "id": "a5a615b4",
   "metadata": {
    "scrolled": true
   },
   "outputs": [
    {
     "name": "stdout",
     "output_type": "stream",
     "text": [
      "True\n",
      "False\n"
     ]
    }
   ],
   "source": [
    "list = [12,33,11,99,22,55,90]\n",
    "sorted_list = BubbleSort(list)\n",
    "print(BinarySearch(list,12))\n",
    "print(BinarySearch(list,91))"
   ]
  },
  {
   "cell_type": "code",
   "execution_count": 67,
   "id": "25ce7920",
   "metadata": {
    "scrolled": true
   },
   "outputs": [
    {
     "name": "stdout",
     "output_type": "stream",
     "text": [
      "True\n"
     ]
    }
   ],
   "source": [
    "list = ['y','u','i','w','o','a','q','u','j','p']\n",
    "sorted_list = BubbleSort(list)\n",
    "print(BinarySearch(list,'a'))"
   ]
  },
  {
   "cell_type": "code",
   "execution_count": 81,
   "id": "691fa498",
   "metadata": {},
   "outputs": [],
   "source": [
    "def IntPolsearch(list,x):\n",
    "    idx0 = 0\n",
    "    idxn = (len(list)-1)\n",
    "    found = False\n",
    "    while idx0 <= idxn and x >= list[idx0] and x <= list[idx]:\n",
    "        mid = idx0 +int(((float(idxn-idx0)/(list[idxn]-list[idx0]))*(x-list[idx0])))\n",
    "        \n",
    "        \n",
    "        if list[mid]==x:\n",
    "            found = True \n",
    "            return found\n",
    "        \n",
    "        if list [mid]<x:\n",
    "            idx0 = mid + 1\n",
    "    return found\n",
    "    "
   ]
  },
  {
   "cell_type": "code",
   "execution_count": 82,
   "id": "2098aea3",
   "metadata": {
    "scrolled": true
   },
   "outputs": [
    {
     "name": "stdout",
     "output_type": "stream",
     "text": [
      "True\n",
      "False\n"
     ]
    }
   ],
   "source": [
    "list = [12,33,11,99,22,55,90]\n",
    "sorted_list = BubbleSort(list)\n",
    "print(IntPolsearch(list,12))\n",
    "print(IntPolsearch(list,91))"
   ]
  },
  {
   "cell_type": "code",
   "execution_count": 91,
   "id": "9f6f8bae",
   "metadata": {},
   "outputs": [
    {
     "name": "stdout",
     "output_type": "stream",
     "text": [
      "True\n"
     ]
    }
   ],
   "source": [
    "list = [20,2,0,7,10,1,9]\n",
    "sorted_list = BubbleSort(list)\n",
    "print(IntPolsearch(list,10))"
   ]
  },
  {
   "cell_type": "code",
   "execution_count": null,
   "id": "c65cf8ab",
   "metadata": {},
   "outputs": [],
   "source": []
  },
  {
   "cell_type": "code",
   "execution_count": null,
   "id": "701fab81",
   "metadata": {},
   "outputs": [],
   "source": []
  }
 ],
 "metadata": {
  "kernelspec": {
   "display_name": "Python 3",
   "language": "python",
   "name": "python3"
  },
  "language_info": {
   "codemirror_mode": {
    "name": "ipython",
    "version": 3
   },
   "file_extension": ".py",
   "mimetype": "text/x-python",
   "name": "python",
   "nbconvert_exporter": "python",
   "pygments_lexer": "ipython3",
   "version": "3.8.8"
  }
 },
 "nbformat": 4,
 "nbformat_minor": 5
}

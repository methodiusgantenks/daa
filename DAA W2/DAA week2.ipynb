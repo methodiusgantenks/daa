{
 "cells": [
  {
   "cell_type": "code",
   "execution_count": 2,
   "id": "8e712eff",
   "metadata": {},
   "outputs": [],
   "source": [
    "import numpy as np"
   ]
  },
  {
   "cell_type": "code",
   "execution_count": 3,
   "id": "99c63e07",
   "metadata": {
    "scrolled": true
   },
   "outputs": [
    {
     "name": "stdout",
     "output_type": "stream",
     "text": [
      "1.20.1\n"
     ]
    }
   ],
   "source": [
    "print(np.__version__)"
   ]
  },
  {
   "cell_type": "code",
   "execution_count": 4,
   "id": "a6ec00ed",
   "metadata": {
    "scrolled": true
   },
   "outputs": [
    {
     "name": "stdout",
     "output_type": "stream",
     "text": [
      "hello, World!\n"
     ]
    }
   ],
   "source": [
    "print(\"hello, World!\")"
   ]
  },
  {
   "cell_type": "code",
   "execution_count": 5,
   "id": "0a791370",
   "metadata": {},
   "outputs": [
    {
     "name": "stdout",
     "output_type": "stream",
     "text": [
      "Nama saya Methodius\n"
     ]
    }
   ],
   "source": [
    "print(\"Nama saya Methodius\")"
   ]
  },
  {
   "cell_type": "code",
   "execution_count": 6,
   "id": "43fcf4c7",
   "metadata": {},
   "outputs": [
    {
     "name": "stdout",
     "output_type": "stream",
     "text": [
      "NIM saya 2020071019\n"
     ]
    }
   ],
   "source": [
    "print(\"NIM saya 2020071019\")"
   ]
  },
  {
   "cell_type": "code",
   "execution_count": 10,
   "id": "615e89db",
   "metadata": {
    "scrolled": false
   },
   "outputs": [
    {
     "name": "stdout",
     "output_type": "stream",
     "text": [
      "lima lebih besar dari dua\n"
     ]
    }
   ],
   "source": [
    "if 5>2: \n",
    "    print (\"lima lebih besar dari dua\")"
   ]
  },
  {
   "cell_type": "code",
   "execution_count": 11,
   "id": "06bfc2bb",
   "metadata": {},
   "outputs": [
    {
     "name": "stdout",
     "output_type": "stream",
     "text": [
      "5\n",
      "john\n"
     ]
    }
   ],
   "source": [
    "x=5\n",
    "y=\"john\"\n",
    "print(x)\n",
    "print(y)"
   ]
  },
  {
   "cell_type": "code",
   "execution_count": 12,
   "id": "babd4575",
   "metadata": {},
   "outputs": [
    {
     "name": "stdout",
     "output_type": "stream",
     "text": [
      "sally\n"
     ]
    }
   ],
   "source": [
    "x=4\n",
    "x=\"sally\"\n",
    "print(x)"
   ]
  },
  {
   "cell_type": "code",
   "execution_count": 47,
   "id": "e6d411d3",
   "metadata": {},
   "outputs": [
    {
     "data": {
      "text/plain": [
       "3"
      ]
     },
     "execution_count": 47,
     "metadata": {},
     "output_type": "execute_result"
    }
   ],
   "source": [
    "def getLast(mylist):\n",
    "    return mylist[-1]\n",
    "\n",
    "getLast([1,2,3])"
   ]
  },
  {
   "cell_type": "code",
   "execution_count": 20,
   "id": "86e789d8",
   "metadata": {},
   "outputs": [
    {
     "data": {
      "text/plain": [
       "2"
      ]
     },
     "execution_count": 20,
     "metadata": {},
     "output_type": "execute_result"
    }
   ],
   "source": [
    "def getSecond(mylist):\n",
    "    return mylist[1]\n",
    "\n",
    "getSecond([1,2,3])"
   ]
  },
  {
   "cell_type": "code",
   "execution_count": 33,
   "id": "af72a2e2",
   "metadata": {},
   "outputs": [
    {
     "data": {
      "text/plain": [
       "10"
      ]
     },
     "execution_count": 33,
     "metadata": {},
     "output_type": "execute_result"
    }
   ],
   "source": [
    "def getSum(myList):\n",
    "    sum = 0\n",
    "    for item in myList:\n",
    "        sum = sum+item\n",
    "    return sum\n",
    "getSum([1,2,3,4])\n",
    "#getsum"
   ]
  },
  {
   "cell_type": "code",
   "execution_count": 30,
   "id": "4ae89e20",
   "metadata": {},
   "outputs": [
    {
     "data": {
      "text/plain": [
       "24"
      ]
     },
     "execution_count": 30,
     "metadata": {},
     "output_type": "execute_result"
    }
   ],
   "source": [
    "def getKali(myList):\n",
    "    kali = 1\n",
    "    for item in myList:\n",
    "        kali = kali*item\n",
    "    return kali\n",
    "getKali([1,2,3,4])\n",
    "#getkali"
   ]
  },
  {
   "cell_type": "code",
   "execution_count": 49,
   "id": "e983ef63",
   "metadata": {},
   "outputs": [
    {
     "data": {
      "text/plain": [
       "0.041666666666666664"
      ]
     },
     "execution_count": 49,
     "metadata": {},
     "output_type": "execute_result"
    }
   ],
   "source": [
    "def getBagi(myList):\n",
    "    bagi = 1\n",
    "    for item in myList:\n",
    "        bagi = bagi/item\n",
    "    return bagi\n",
    "getBagi([1,2,3,4])\n",
    "#getbagi"
   ]
  },
  {
   "cell_type": "code",
   "execution_count": 38,
   "id": "67da799f",
   "metadata": {},
   "outputs": [
    {
     "data": {
      "text/plain": [
       "21"
      ]
     },
     "execution_count": 38,
     "metadata": {},
     "output_type": "execute_result"
    }
   ],
   "source": [
    "def getSum(myList):\n",
    "    sum=0\n",
    "    for row in myList:\n",
    "        for item in row:\n",
    "            sum+=item\n",
    "    return sum\n",
    "\n",
    "getSum([[1,2,3],[4,5,6]])"
   ]
  },
  {
   "cell_type": "code",
   "execution_count": 42,
   "id": "477fc721",
   "metadata": {},
   "outputs": [
    {
     "data": {
      "text/plain": [
       "0.001388888888888889"
      ]
     },
     "execution_count": 42,
     "metadata": {},
     "output_type": "execute_result"
    }
   ],
   "source": [
    "def getSum(myList):\n",
    "    sum = 1\n",
    "    for row in myList:\n",
    "        for item in row:\n",
    "            sum/=item\n",
    "    return sum\n",
    "\n",
    "getSum([[1,2,3],[4,5,6]])\n",
    "#membagi"
   ]
  },
  {
   "cell_type": "code",
   "execution_count": 51,
   "id": "deeb36f7",
   "metadata": {},
   "outputs": [
    {
     "data": {
      "text/plain": [
       "21"
      ]
     },
     "execution_count": 51,
     "metadata": {},
     "output_type": "execute_result"
    }
   ],
   "source": [
    "def getSum(myList):\n",
    "    sum = 0\n",
    "    for row in myList:\n",
    "        for item in row:\n",
    "            sum+=item\n",
    "    return sum\n",
    "\n",
    "getSum([[1,2,3],[4,5,6]])\n",
    "#menambahkan"
   ]
  },
  {
   "cell_type": "code",
   "execution_count": 57,
   "id": "a8319a68",
   "metadata": {},
   "outputs": [
    {
     "data": {
      "text/plain": [
       "0.001388888888888889"
      ]
     },
     "execution_count": 57,
     "metadata": {},
     "output_type": "execute_result"
    }
   ],
   "source": [
    "def getSum(myList):\n",
    "    sum = 1\n",
    "    for row in myList:\n",
    "        for item in row:\n",
    "            sum/=item\n",
    "    return sum\n",
    "\n",
    "getSum([[1,2,3],[4,5,6]])\n",
    "#pembagi"
   ]
  },
  {
   "cell_type": "code",
   "execution_count": 58,
   "id": "be2792a1",
   "metadata": {},
   "outputs": [
    {
     "data": {
      "text/plain": [
       "-21"
      ]
     },
     "execution_count": 58,
     "metadata": {},
     "output_type": "execute_result"
    }
   ],
   "source": [
    "def getSum(myList):\n",
    "    sum = 0\n",
    "    for row in myList:\n",
    "        for item in row:\n",
    "            sum-=item\n",
    "    return sum\n",
    "\n",
    "getSum([[1,2,3],[4,5,6]])\n",
    "#mengurangi"
   ]
  },
  {
   "cell_type": "code",
   "execution_count": 61,
   "id": "7f589f5c",
   "metadata": {},
   "outputs": [
    {
     "data": {
      "text/plain": [
       "True"
      ]
     },
     "execution_count": 61,
     "metadata": {},
     "output_type": "execute_result"
    }
   ],
   "source": [
    "def searchBinary(myList,item):\n",
    "    first = 0\n",
    "    last = len(myList)-1\n",
    "    foundFlag = False\n",
    "    while( first<=last and not foundFlag):\n",
    "        mid = (first + last) //2\n",
    "        if myList[mid] == item :\n",
    "            foundFlag = True\n",
    "        else:\n",
    "            if item < myList[mid]:\n",
    "                last = mid - 1\n",
    "            else:\n",
    "                first = mid + 1\n",
    "    return foundFlag\n",
    "searchBinary ([8,9,10,100,1000,2000,3000], 10)\n"
   ]
  },
  {
   "cell_type": "code",
   "execution_count": 62,
   "id": "4f689ede",
   "metadata": {},
   "outputs": [
    {
     "data": {
      "text/plain": [
       "False"
      ]
     },
     "execution_count": 62,
     "metadata": {},
     "output_type": "execute_result"
    }
   ],
   "source": [
    "def searchBinary(myList,item):\n",
    "    first = 0\n",
    "    last = len(myList)-1\n",
    "    foundFlag = False\n",
    "    while( first<=last and not foundFlag):\n",
    "        mid = (first + last) //2\n",
    "        if myList[mid] == item :\n",
    "            foundFlag = True\n",
    "        else:\n",
    "            if item < myList[mid]:\n",
    "                last = mid - 1\n",
    "            else:\n",
    "                first = mid + 1\n",
    "    return foundFlag\n",
    "searchBinary ([8,9,10,100,1000,2000,3000], 5)"
   ]
  },
  {
   "cell_type": "code",
   "execution_count": null,
   "id": "81591760",
   "metadata": {},
   "outputs": [],
   "source": []
  }
 ],
 "metadata": {
  "kernelspec": {
   "display_name": "Python 3",
   "language": "python",
   "name": "python3"
  },
  "language_info": {
   "codemirror_mode": {
    "name": "ipython",
    "version": 3
   },
   "file_extension": ".py",
   "mimetype": "text/x-python",
   "name": "python",
   "nbconvert_exporter": "python",
   "pygments_lexer": "ipython3",
   "version": "3.8.8"
  }
 },
 "nbformat": 4,
 "nbformat_minor": 5
}
